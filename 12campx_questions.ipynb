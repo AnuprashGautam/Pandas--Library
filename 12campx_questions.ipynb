{
 "cells": [
  {
   "cell_type": "markdown",
   "metadata": {},
   "source": [
    "# Questions"
   ]
  },
  {
   "cell_type": "markdown",
   "metadata": {},
   "source": [
    "## Q.1 We have to fetch the names of those batsman which have scored the highest runs in all the matches."
   ]
  },
  {
   "cell_type": "code",
   "execution_count": 1,
   "metadata": {},
   "outputs": [
    {
     "data": {
      "text/plain": [
       "batsman\n",
       "SK Raina     4548\n",
       "V Kohli      4423\n",
       "RG Sharma    4207\n",
       "G Gambhir    4132\n",
       "DA Warner    4014\n",
       "Name: batsman_runs, dtype: int64"
      ]
     },
     "execution_count": 1,
     "metadata": {},
     "output_type": "execute_result"
    }
   ],
   "source": [
    "import pandas as pd\n",
    "delivery=pd.read_csv(\"deliveries.csv\")\n",
    "runs=delivery.groupby(\"batsman\")\n",
    "runs[\"batsman_runs\"].sum().sort_values(ascending=False).head()"
   ]
  },
  {
   "cell_type": "markdown",
   "metadata": {},
   "source": [
    "## Q.2 We have to find the teams' names against which Virat Kohli has scored most runs."
   ]
  },
  {
   "cell_type": "code",
   "execution_count": 2,
   "metadata": {},
   "outputs": [
    {
     "data": {
      "text/plain": [
       "bowling_team\n",
       "Chennai Super Kings    706\n",
       "Delhi Daredevils       661\n",
       "Kings XI Punjab        483\n",
       "Mumbai Indians         447\n",
       "Sunrisers Hyderabad    439\n",
       "Name: batsman_runs, dtype: int64"
      ]
     },
     "execution_count": 2,
     "metadata": {},
     "output_type": "execute_result"
    }
   ],
   "source": [
    "mask4=delivery[\"batsman\"]==\"V Kohli\"\n",
    "vk=delivery[mask4]\n",
    "scores=vk.groupby(\"bowling_team\")\n",
    "scores[\"batsman_runs\"].sum().sort_values(ascending=False).head()"
   ]
  },
  {
   "cell_type": "markdown",
   "metadata": {},
   "source": [
    "- Similarly we can make afunction that can take the batsman name and return the name of team aginst which Virat kohli has scored most run."
   ]
  },
  {
   "cell_type": "code",
   "execution_count": 5,
   "metadata": {},
   "outputs": [
    {
     "name": "stdout",
     "output_type": "stream",
     "text": [
      "Mumbai Indians\n"
     ]
    }
   ],
   "source": [
    "def team (batsma_name):\n",
    "    mask=delivery[\"batsman\"]==batsma_name\n",
    "    bt=delivery[mask]\n",
    "    tm=bt.groupby(\"bowling_team\")\n",
    "    return tm[\"batsman_runs\"].sum().sort_values(ascending=False).index[0]\n",
    "\n",
    "batsman_name=input(\"Enter the batsman name:\")\n",
    "team_name=team(batsman_name)\n",
    "print(team_name)"
   ]
  }
 ],
 "metadata": {
  "kernelspec": {
   "display_name": "Python 3",
   "language": "python",
   "name": "python3"
  },
  "language_info": {
   "codemirror_mode": {
    "name": "ipython",
    "version": 3
   },
   "file_extension": ".py",
   "mimetype": "text/x-python",
   "name": "python",
   "nbconvert_exporter": "python",
   "pygments_lexer": "ipython3",
   "version": "3.11.4"
  }
 },
 "nbformat": 4,
 "nbformat_minor": 2
}
