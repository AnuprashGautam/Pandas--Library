{
 "cells": [
  {
   "cell_type": "markdown",
   "metadata": {},
   "source": [
    "# isin() function\n",
    "\n",
    "The isin() function in Pandas is like a filter for your data. It helps you check if values in a column are in a given list of values. \n",
    "\n",
    "For example, if you have a DataFrame of students and you want to find out which ones are in a specific group, you can use isin() to quickly check if their names are in that list of group members. It's handy for filtering and sorting data based on specific criteria."
   ]
  },
  {
   "cell_type": "markdown",
   "metadata": {},
   "source": [
    "## Q. We have to find the deadliest batsman (acc to strikerate in over 16-20) in IPL. But the condition is that he should have played atleast 200 balls."
   ]
  },
  {
   "cell_type": "code",
   "execution_count": 3,
   "metadata": {},
   "outputs": [
    {
     "data": {
      "text/plain": [
       "batsman\n",
       "A Mishra             89.005236\n",
       "AB de Villiers      145.129059\n",
       "AD Mathews          120.868114\n",
       "AM Rahane           117.486549\n",
       "AR Patel            122.672065\n",
       "AT Rayudu           123.014257\n",
       "BJ Hodge            121.422376\n",
       "DA Miller           137.709251\n",
       "DA Warner           138.318401\n",
       "DJ Bravo            122.286822\n",
       "DJ Hussey           120.072661\n",
       "DPMD Jayawardene    118.791064\n",
       "Harbhajan Singh     135.194585\n",
       "IK Pathan           116.751269\n",
       "JA Morkel           136.938202\n",
       "JH Kallis           105.936272\n",
       "JP Duminy           121.970624\n",
       "JP Faulkner         129.802956\n",
       "KA Pollard          140.621266\n",
       "KD Karthik          123.008475\n",
       "KM Jadhav           130.555556\n",
       "LRPL Taylor         120.070838\n",
       "MK Pandey           116.938453\n",
       "MK Tiwary           114.127424\n",
       "MS Dhoni            132.835821\n",
       "NV Ojha             114.528024\n",
       "P Kumar             105.263158\n",
       "PP Chawla           110.278373\n",
       "R Vinay Kumar       106.666667\n",
       "RA Jadeja           118.792867\n",
       "RG Sharma           128.497251\n",
       "RV Uthappa          127.635135\n",
       "S Badrinath         115.742972\n",
       "S Dhawan            118.502496\n",
       "SK Raina            134.995548\n",
       "SPD Smith           128.507127\n",
       "SS Tiwary           114.851485\n",
       "STR Binny           123.747981\n",
       "V Kohli             126.588437\n",
       "WP Saha             127.727646\n",
       "Y Venugopal Rao     113.872832\n",
       "YK Pathan           140.751445\n",
       "Yuvraj Singh        126.390244\n",
       "Name: batsman_runs, dtype: float64"
      ]
     },
     "execution_count": 3,
     "metadata": {},
     "output_type": "execute_result"
    }
   ],
   "source": [
    "import pandas as pd\n",
    "delivery=pd.read_csv(\"deliveries.csv\")\n",
    "\n",
    "mask=delivery[\"over\"]>15\n",
    "death_over=delivery[mask]\n",
    "all_batsman=death_over.groupby(\"batsman\")[\"batsman_runs\"].count()\n",
    "mask1=all_batsman>200\n",
    "batsman_list=all_batsman[mask1].index.tolist()\n",
    "mask2=delivery[\"batsman\"].isin(batsman_list)\n",
    "final=delivery[mask2]\n",
    "\n",
    "# Now we just have to calculate the runs and balls for strike rate.\n",
    "\n",
    "runs=final.groupby(\"batsman\")[\"batsman_runs\"].sum()\n",
    "balls=final.groupby(\"batsman\")[\"batsman_runs\"].count()\n",
    "\n",
    "sr=(runs/balls)*100\n",
    "sr"
   ]
  }
 ],
 "metadata": {
  "kernelspec": {
   "display_name": "Python 3",
   "language": "python",
   "name": "python3"
  },
  "language_info": {
   "codemirror_mode": {
    "name": "ipython",
    "version": 3
   },
   "file_extension": ".py",
   "mimetype": "text/x-python",
   "name": "python",
   "nbconvert_exporter": "python",
   "pygments_lexer": "ipython3",
   "version": "3.11.4"
  }
 },
 "nbformat": 4,
 "nbformat_minor": 2
}
